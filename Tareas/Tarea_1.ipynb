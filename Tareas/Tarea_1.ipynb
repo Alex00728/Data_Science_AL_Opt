{
  "cells": [
    {
      "cell_type": "markdown",
      "metadata": {
        "id": "qwMc7Zc6lF4B"
      },
      "source": [
        "# Tarea 1 - Álgebra Lineal y Optimización para Data Science\n",
        "\n",
        "Debe entregar este Colab con sus respuestas a más tardar el día 30 de Septiembre a las 23:59 hrs, vía Webcursos. No olvide indicar los integrantes de su grupo.\n",
        "\n",
        "**Importante**: En todas las preguntas debe utilizar NumPy y su módulo linalg, junto con funciones básicas de Python. Puede agregar celdas adicionales para hacer los tests que desee."
      ]
    },
    {
      "cell_type": "markdown",
      "metadata": {
        "id": "hmMnThxtojht"
      },
      "source": [
        "### Parte 1 (1.5 pts)\n",
        "\n",
        "1. (0.5 pts) Recuerde que el _producto externo_ entre dos vectores $\\bar{x}\\in \\mathbb{R}^n$, $\\bar{y}\\in \\mathbb{R}^m$, denotado $\\bar{x}\\otimes\\bar{y}$ se define como la matriz de $n\\times m$:\n",
        "\n",
        " $$\\bar{x}\\otimes\\bar{y}=\\begin{bmatrix}\n",
        "x_1 y_1 & x_1 y_2 & \\cdots & x_1 y_m\\\\\n",
        "x_2 y_1 & x_2 y_2 & \\cdots & x_2 y_m\\\\\n",
        "\\vdots & \\vdots & \\vdots & \\vdots\\\\\n",
        "x_n y_1 & x_n y_2 & \\cdots & x_n y_m\\\\\n",
        "\\end{bmatrix}$$\n",
        "\n",
        " Implemente una función `outer_product(x, y)` que reciba dos vectores $\\bar{x}$ e $\\bar{y}$, y entregue el producto externo $\\bar{x}\\otimes\\bar{y}$.\n",
        "\n",
        " **Ojo**: No puede usar la función `np.linalg.outer`. "
      ]
    },
    {
      "cell_type": "code",
      "execution_count": 3,
      "metadata": {
        "id": "Z-2LN3dblEaF"
      },
      "outputs": [],
      "source": [
        "import numpy as np\n",
        "a = np.array([1,2,3])\n",
        "b = np.array([1,2,3])"
      ]
    },
    {
      "cell_type": "code",
      "execution_count": 4,
      "metadata": {},
      "outputs": [],
      "source": [
        "def outer_product(a,b):\n",
        "    dim_a = len(a)\n",
        "    dim_b = len(b)\n",
        "\n",
        "    output = np.zeros((dim_a, dim_b))\n",
        "    for idx_b, item_b in enumerate(b):\n",
        "        for idx_a, item_a in enumerate(a):\n",
        "            output[idx_a, idx_b] = item_a * item_b\n",
        "\n",
        "    return output\n",
        "\n",
        "\n",
        "assert (np.outer(a,b) == outer_product(a,b)).all() # chequeo que la función sea correcta"
      ]
    },
    {
      "cell_type": "markdown",
      "metadata": {
        "id": "bNvLIBPYsaGe"
      },
      "source": [
        "2. (0.5 pts) Implemente una función `outer_matrix_mul(A,B)` que reciba matrices $A$ de $n\\times m$ y $B$ de $m\\times p$ y entregue:\n",
        "\n",
        " $$A_{*,1}\\otimes B_{1,*} + \\cdots A_{*,m}\\otimes B_{m,*}$$\n",
        "\n",
        " Debe utilizar su función `outer_product(x, y)`. Recuerde que esto coincide con $AB$, luego puede validar sus resultados utilizando esa equivalencia.\n",
        " \n",
        " **Ojo**: No puede usar el producto de matrices en su implementación.\n",
        "\n",
        "\n"
      ]
    },
    {
      "cell_type": "code",
      "execution_count": 5,
      "metadata": {
        "id": "_cVo_C03uM8-"
      },
      "outputs": [],
      "source": [
        "A = np.array([[1,2],[3,4]])\n",
        "B = np.array([[4,5],[6,7]])\n",
        "C = np.array([[1,2],[4,5],[6,7]])"
      ]
    },
    {
      "cell_type": "code",
      "execution_count": 6,
      "metadata": {},
      "outputs": [
        {
          "name": "stdout",
          "output_type": "stream",
          "text": [
            "Error: Las dimensiones de las matrices no son compatibles.\n"
          ]
        }
      ],
      "source": [
        "def outer_matrix_mul(A,B):\n",
        "\n",
        "    try:\n",
        "        assert A.shape[1] == B.shape[0]\n",
        "        dim_row = A.shape[0]\n",
        "        dim_col = B.shape[1]\n",
        "\n",
        "        output = np.zeros((dim_row, dim_col))\n",
        "        for col, row in zip(A.T, B):\n",
        "            output += outer_product(col, row)\n",
        "        return output\n",
        "    except AssertionError:\n",
        "        print(\"Error: Las dimensiones de las matrices no son compatibles.\")\n",
        "\n",
        "\n",
        "assert (outer_matrix_mul(A,B) == A @ B).all() # chequeo que la función sea correcta\n",
        "outer_matrix_mul(A,C) ## Debe fallar"
      ]
    },
    {
      "cell_type": "markdown",
      "metadata": {
        "id": "XNAhsKT6ulHx"
      },
      "source": [
        "3. (0.5 pts) Sea $A$ una matriz de $n\\times m$ y $B$ una matriz de $p\\times q$. Se define el _producto de Kronecker_ como la matriz de $np \\times mq$:\n",
        "\n",
        " $$A\\otimes B = \n",
        "\\begin{bmatrix}\n",
        "A_{1,1} B & \\cdots & A_{1,m} B\\\\\n",
        "\\vdots & \\vdots & \\vdots\\\\\n",
        "A_{n,1} B & \\cdots & A_{n,m} B\\\\\n",
        "\\end{bmatrix}$$\n",
        "\n",
        " Por ejemplo:\n",
        " $$\n",
        "\\begin{bmatrix}\n",
        "1 & 2\\\\\n",
        "3 & 4\n",
        "\\end{bmatrix}\n",
        "\\otimes \n",
        "\\begin{bmatrix}\n",
        "0 & 5\\\\\n",
        "6 & 7\n",
        "\\end{bmatrix}\n",
        "=\n",
        "\\begin{bmatrix}\n",
        "1 \\begin{bmatrix}\n",
        "0 & 5\\\\\n",
        "6 & 7\n",
        "\\end{bmatrix} & 2 \\begin{bmatrix}\n",
        "0 & 5\\\\\n",
        "6 & 7\n",
        "\\end{bmatrix}\\\\\n",
        "3 \\begin{bmatrix}\n",
        "0 & 5\\\\\n",
        "6 & 7\n",
        "\\end{bmatrix} & 4 \\begin{bmatrix}\n",
        "0 & 5\\\\\n",
        "6 & 7\n",
        "\\end{bmatrix}\n",
        "\\end{bmatrix}\n",
        "=\n",
        "\\begin{bmatrix}\n",
        "0 & 5 & 0 & 10\\\\\n",
        "6 & 7 & 12 & 14\\\\\n",
        "0 & 15 & 0 & 20\\\\\n",
        "18 & 21 & 24 & 28\n",
        "\\end{bmatrix}\n",
        "$$\n",
        "\n",
        " $$ \\begin{bmatrix}\n",
        "2 & 3\\\\\n",
        "\\end{bmatrix}\n",
        "\\otimes \n",
        "\\begin{bmatrix}\n",
        "0 & 5\\\\\n",
        "6 & 7\\\\\n",
        "1 & -1\n",
        "\\end{bmatrix}\n",
        "=\n",
        "\\begin{bmatrix}\n",
        "2 \\begin{bmatrix}\n",
        "0 & 5\\\\\n",
        "6 & 7\\\\\n",
        "1 & -1\n",
        "\\end{bmatrix} & 3 \\begin{bmatrix}\n",
        "0 & 5\\\\\n",
        "6 & 7\\\\\n",
        "1 & -1\n",
        "\\end{bmatrix}\\\\\n",
        "\\end{bmatrix}\n",
        "= \n",
        "\\begin{bmatrix}\n",
        "0 & 10 & 0 & 15\\\\ \n",
        "12 & 14 & 18 & 21\\\\\n",
        "2 & -2 & 3 & -3\n",
        "\\end{bmatrix}\n",
        "$$\n",
        "\n",
        " Implemente una función `kronecker(A, B)` que reciba dos matrices y entregue su producto de Kronecker.\n",
        "\n",
        " **Ojo**: No puede utilizar funciones de `np.linalg` que le resuelvan el problema directamente."
      ]
    },
    {
      "cell_type": "code",
      "execution_count": 7,
      "metadata": {
        "id": "oUkNeoFywEyj"
      },
      "outputs": [],
      "source": [
        "A = np.array([[1,2],[3,4]])\n",
        "B = np.array([[0,5],[6,7]])\n",
        "C = np.array([[2,3]])\n",
        "D = np.array([[0,5],[6,7],[1,-1]])\n",
        "E = np.array([2,3])\n"
      ]
    },
    {
      "cell_type": "code",
      "execution_count": 8,
      "metadata": {},
      "outputs": [
        {
          "name": "stdout",
          "output_type": "stream",
          "text": [
            "Error: Los objetos tienen que tener al menos dos dimensiones\n"
          ]
        }
      ],
      "source": [
        "def kronecker(A,B):\n",
        "    try:\n",
        "        assert len(A.shape) > 1 and len(B.shape) > 1\n",
        "        n, m = A.shape\n",
        "        p, q = B.shape\n",
        "\n",
        "        output = np.zeros((n*p, m*q))\n",
        "        for i in range(n):\n",
        "            for j in range(m):\n",
        "                output[i*p : i*p + p, j*q : j*q + q] = A[i,j]*B\n",
        "\n",
        "        return output\n",
        "    except AssertionError:\n",
        "        print(\"Error: Los objetos tienen que tener al menos dos dimensiones\")\n",
        "\n",
        "assert (kronecker(A,B) == np.kron(A,B)).all()\n",
        "assert (kronecker(C,D) == np.kron(C,D)).all()\n",
        "kronecker(E,D)\n"
      ]
    },
    {
      "cell_type": "markdown",
      "metadata": {
        "id": "GihoHIJSyMYe"
      },
      "source": [
        "### Parte 2 (1.5 pts)\n",
        "\n",
        "Un _grafo (no dirigido)_ es un par $G=(V,E)$, donde $V=\\{1,\\dots, n\\}$ es el conjunto de nodos y $E\\subseteq \\{\\{i,j\\}\\mid i,j\\in\\{1,\\dots,n\\}, i\\neq j\\}$ el conjunto de aristas. Un _camino_ en $G$ de un nodo $i$ a un nodo $j$ es una secuencia $h_0, e_1, h_1, e_2, h_2, \\dots, h_{k-1}, e_k, h_k$, para $k\\geq 0$ tal que $h_0=i$, $h_k=j$ y $e_p=\\{h_{p-1}, h_{p}\\}\\in E$, para todo $1\\leq p \\leq k$. El largo del camino es $k$ (es decir, la cantidad de aristas del camino). \n",
        "\n",
        "La _matriz de adyacencia_ $A$ de $G$ es una matriz de $n\\times n$ donde $A_{i,j}=1$ si $\\{i,j\\}\\in E$ y $A_{i,j}=0$ en caso contrario. Notar que $A$ es una matriz simétrica. "
      ]
    },
    {
      "cell_type": "markdown",
      "metadata": {
        "id": "1G_yNb6t30eG"
      },
      "source": [
        "1. (0.5 pts) Indique qué contienen las entradas de la matriz $A^2$. Argumente su respuesta. ¿Qué cree que sucede con $A^k$, para cierto $k\\geq 0$?"
      ]
    },
    {
      "cell_type": "markdown",
      "metadata": {
        "id": "Cq1gRuN135eT"
      },
      "source": [
        "2. (1.0 pts) Implemente una función `cantidad_triangulos(A)` que recibe la matriz de adyacencia $A$ de un grafo $G$ y retorna la cantidad de triángulos en $G$. Un _triángulo_ es un camino de largo 3 que parte y termina en el mismo nodo. Un triángulo debe contarse una sóla vez _independiente_ de su punto de partida y orientación.\n",
        "\n",
        " **Ojo:** Debe utilizar la pregunta anterior para su implementación."
      ]
    },
    {
      "cell_type": "code",
      "execution_count": 9,
      "metadata": {},
      "outputs": [
        {
          "data": {
            "text/plain": [
              "2.0"
            ]
          },
          "execution_count": 9,
          "metadata": {},
          "output_type": "execute_result"
        }
      ],
      "source": [
        "def calcular_triangulos(A):\n",
        "    m = A@A@A\n",
        "    return np.trace(m)/6\n",
        "\n",
        "A = np.array([[0,1,1,1],[1,0,1,0],[1,1,0,1],[1,0,1,0]])\n",
        "\n",
        "calcular_triangulos(A)"
      ]
    },
    {
      "cell_type": "markdown",
      "metadata": {
        "id": "YU2letol4pLz"
      },
      "source": [
        "### Parte 3 (1.0 pts)\n",
        "\n",
        "Usando funciones de `np.linalg` implemente una función `sistema_lineal(A,b)` que reciba una matriz $A$ de $n\\times m$ y un vector $\\bar{b}\\in \\mathbb{R}^n$ tal que resuelve el sistema lineal $A\\bar{x} = \\bar{b}$:\n",
        "\n",
        "- Si el sistema tiene solución entrega _alguna_ solución.\n",
        "- Si el sistema no tiene solución, entrega un mensaje indicando que no hay solución."
      ]
    },
    {
      "cell_type": "code",
      "execution_count": 10,
      "metadata": {},
      "outputs": [
        {
          "data": {
            "text/plain": [
              "(array([3.75, 3.75]), array([], dtype=float64), 1, array([2., 0.]))"
            ]
          },
          "execution_count": 10,
          "metadata": {},
          "output_type": "execute_result"
        }
      ],
      "source": [
        "## PROBLEMA CON SISTEMA SIN SOLUCIONES E INFINITAS SOLUCIONES...\n",
        "\n",
        "def sistema_lineal(A,b):\n",
        "    return np.linalg.lstsq(A,b, rcond=0.0001)\n",
        "\n",
        "A = [[1,1],[1,1]]\n",
        "b = [10,5]\n",
        "\n",
        "\n",
        "sistema_lineal(A,b)"
      ]
    },
    {
      "cell_type": "code",
      "execution_count": 11,
      "metadata": {
        "id": "Uz3H7Kl15VgM"
      },
      "outputs": [
        {
          "data": {
            "text/plain": [
              "(array([1.5, 1.5]),\n",
              " array([], dtype=float64),\n",
              " 1,\n",
              " array([3.16227766e+00, 1.57009246e-16]))"
            ]
          },
          "execution_count": 11,
          "metadata": {},
          "output_type": "execute_result"
        }
      ],
      "source": [
        "A = [[1,1],[2,2]]\n",
        "b = [3,6]\n",
        "\n",
        "sistema_lineal(A,b)"
      ]
    },
    {
      "cell_type": "markdown",
      "metadata": {
        "id": "Of1S4dqC5Wag"
      },
      "source": [
        "### Parte 4 (2.0 pts)\n",
        "\n",
        "1. (1.0 pts) Implemente una función `regresion_lineal(X, y)` que recibe un conjunto de datos y entrega una solución $\\bar c$ del problema de regresión lineal, junto con el error cuadrático alcanzado. Los datos son entregados como una matriz $X$ donde cada **fila** es un dato $\\bar{x}_i$ y un vector $\\bar{y}$ donde la coordenada i-ésima $y_i$ es el valor real asociado a $\\bar{x}_i$. Para implementar `regresion_lineal(X, y)` **debe** utilizar `numpy.linalg.lstsq`. "
      ]
    },
    {
      "cell_type": "code",
      "execution_count": 16,
      "metadata": {},
      "outputs": [],
      "source": [
        "from sklearn.metrics import mean_squared_error\n",
        "\n",
        "def regresion_lineal(X,y, add_intercept=True):\n",
        "    if add_intercept:\n",
        "        X = np.hstack((np.ones((X.shape[0],1)), X))\n",
        "    c = np.linalg.lstsq(X,y, rcond=None)[0]\n",
        "    y_pred = X@c\n",
        "    mse = mean_squared_error(y, y_pred)\n",
        "\n",
        "    return c, mse\n",
        "\n"
      ]
    },
    {
      "cell_type": "markdown",
      "metadata": {
        "id": "TIT8twgt-ISq"
      },
      "source": [
        "2. (1.0 pts) Aplique su función al dataset \"California housing dataset\" de `scikit learn`. Para más detalles ver:\n",
        "\n",
        " https://scikit-learn.org/stable/modules/generated/sklearn.datasets.fetch_california_housing.html.\n",
        "\n",
        " ¿Cuáles son los parámetros que obtiene? ¿Cuánto es el error cuadrático alcanzado?"
      ]
    },
    {
      "cell_type": "code",
      "execution_count": 17,
      "metadata": {
        "id": "Q0EPdSvo-NBO"
      },
      "outputs": [
        {
          "name": "stdout",
          "output_type": "stream",
          "text": [
            "(20640, 8) (20640,)\n"
          ]
        },
        {
          "data": {
            "text/plain": [
              "0.5243209861846072"
            ]
          },
          "execution_count": 17,
          "metadata": {},
          "output_type": "execute_result"
        }
      ],
      "source": [
        "from sklearn.linear_model import LinearRegression\n",
        "from sklearn.datasets import fetch_california_housing\n",
        "from sklearn.metrics import mean_squared_error\n",
        "X,y = fetch_california_housing(return_X_y=True)\n",
        "print(X.shape, y.shape)\n",
        "\n",
        "c, mse = regresion_lineal(X,y)\n",
        "mse"
      ]
    },
    {
      "cell_type": "code",
      "execution_count": null,
      "metadata": {},
      "outputs": [],
      "source": []
    }
  ],
  "metadata": {
    "colab": {
      "collapsed_sections": [],
      "provenance": []
    },
    "kernelspec": {
      "display_name": "Python 3.9.12 ('base')",
      "language": "python",
      "name": "python3"
    },
    "language_info": {
      "codemirror_mode": {
        "name": "ipython",
        "version": 3
      },
      "file_extension": ".py",
      "mimetype": "text/x-python",
      "name": "python",
      "nbconvert_exporter": "python",
      "pygments_lexer": "ipython3",
      "version": "3.9.12"
    },
    "vscode": {
      "interpreter": {
        "hash": "64552dec38dc00846c0470cc47112afcd844759a0812a214ef98e699b0a74752"
      }
    }
  },
  "nbformat": 4,
  "nbformat_minor": 0
}
